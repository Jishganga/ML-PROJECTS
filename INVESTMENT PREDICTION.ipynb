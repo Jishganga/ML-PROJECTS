{
 "cells": [
  {
   "cell_type": "code",
   "execution_count": null,
   "id": "68fdf908",
   "metadata": {},
   "outputs": [],
   "source": [
    "import pandas as pd\n",
    "import matplotlib.pyplot as plt\n",
    "import seaborn as sns\n",
    "from sklearn.model_selection import train_test_split\n",
    "from sklearn.linear_model import LogisticRegression"
   ]
  },
  {
   "cell_type": "code",
   "execution_count": null,
   "id": "e71dfb00",
   "metadata": {},
   "outputs": [],
   "source": [
    "df=pd.read_csv(r\"C:\\Users\\jgmk2\\OneDrive\\Desktop\\introtallent\\PYTHON\\Data Files used in Projects\\Data Files used in Projects\\Investment.csv\")"
   ]
  },
  {
   "cell_type": "code",
   "execution_count": null,
   "id": "67c5cf8c",
   "metadata": {},
   "outputs": [],
   "source": [
    "df.shape"
   ]
  },
  {
   "cell_type": "code",
   "execution_count": null,
   "id": "64fc1322",
   "metadata": {},
   "outputs": [],
   "source": [
    "df.head(2)"
   ]
  },
  {
   "cell_type": "code",
   "execution_count": null,
   "id": "6106a275",
   "metadata": {},
   "outputs": [],
   "source": [
    "df['Invested']=df['Invested'].replace(['Yes','No'],[1,0])"
   ]
  },
  {
   "cell_type": "code",
   "execution_count": null,
   "id": "c7d480c3",
   "metadata": {},
   "outputs": [],
   "source": [
    "df.dtypes"
   ]
  },
  {
   "cell_type": "code",
   "execution_count": null,
   "id": "8d11e1c9",
   "metadata": {},
   "outputs": [],
   "source": [
    "df.isnull().sum()"
   ]
  },
  {
   "cell_type": "code",
   "execution_count": null,
   "id": "d8ad1ad0",
   "metadata": {},
   "outputs": [],
   "source": [
    "plt.boxplot(df['age'])\n",
    "plt.show()"
   ]
  },
  {
   "cell_type": "code",
   "execution_count": null,
   "id": "d0598771",
   "metadata": {},
   "outputs": [],
   "source": [
    "\n",
    "plt.boxplot(df['emp_var_rate'])\n",
    "plt.show()"
   ]
  },
  {
   "cell_type": "code",
   "execution_count": null,
   "id": "48b61145",
   "metadata": {},
   "outputs": [],
   "source": [
    "plt.boxplot(df['cons_price_idx'])\n",
    "plt.show()"
   ]
  },
  {
   "cell_type": "code",
   "execution_count": null,
   "id": "dc6eeb86",
   "metadata": {},
   "outputs": [],
   "source": [
    "plt.boxplot(df['euribor3m'])\n",
    "plt.show()"
   ]
  },
  {
   "cell_type": "code",
   "execution_count": null,
   "id": "ff0f8a68",
   "metadata": {},
   "outputs": [],
   "source": [
    "plt.boxplot(df['nr_employed'])\n",
    "plt.show()"
   ]
  },
  {
   "cell_type": "code",
   "execution_count": null,
   "id": "2f4bba33",
   "metadata": {},
   "outputs": [],
   "source": [
    "plt.boxplot(df['cons_conf_idx'])\n",
    "plt.show()"
   ]
  },
  {
   "cell_type": "code",
   "execution_count": null,
   "id": "92ffece3",
   "metadata": {},
   "outputs": [],
   "source": [
    "def outrem(d,c):\n",
    "    q1=d[c].quantile(.25)\n",
    "    q3=d[c].quantile(.75)\n",
    "    iqr=q3-q1\n",
    "    lb=q1-(1.5*iqr)\n",
    "    ub=q3+(1.5*iqr)\n",
    "    gddata=d[(d[c]<=ub)&(d[c]>=lb)]\n",
    "    return gddata"
   ]
  },
  {
   "cell_type": "code",
   "execution_count": null,
   "id": "a9c79567",
   "metadata": {},
   "outputs": [],
   "source": [
    "df=outrem(df,'age')\n",
    "plt.boxplot(df['age'])\n",
    "plt.show()"
   ]
  },
  {
   "cell_type": "code",
   "execution_count": null,
   "id": "c0338633",
   "metadata": {},
   "outputs": [],
   "source": [
    "df=outrem(df,'cons_conf_idx')\n",
    "plt.boxplot(df['cons_conf_idx'])\n",
    "plt.show()"
   ]
  },
  {
   "cell_type": "code",
   "execution_count": null,
   "id": "7c9edf42",
   "metadata": {},
   "outputs": [],
   "source": [
    "df.select_dtypes(include=\"object\")"
   ]
  },
  {
   "cell_type": "code",
   "execution_count": null,
   "id": "63845a23",
   "metadata": {},
   "outputs": [],
   "source": [
    "df['job'].unique()"
   ]
  },
  {
   "cell_type": "code",
   "execution_count": null,
   "id": "339ac37f",
   "metadata": {},
   "outputs": [],
   "source": [
    "df['marital'].unique()"
   ]
  },
  {
   "cell_type": "code",
   "execution_count": null,
   "id": "04c03b6d",
   "metadata": {},
   "outputs": [],
   "source": [
    "df['education'].unique()"
   ]
  },
  {
   "cell_type": "code",
   "execution_count": null,
   "id": "bb0f286b",
   "metadata": {},
   "outputs": [],
   "source": [
    "df['education']=df['education'].replace(['basic.4y','basic.9y','basic.6y'],'basic')\n",
    "df['education'].unique()"
   ]
  },
  {
   "cell_type": "code",
   "execution_count": null,
   "id": "33cfa342",
   "metadata": {},
   "outputs": [],
   "source": [
    "df['default'].unique()"
   ]
  },
  {
   "cell_type": "code",
   "execution_count": null,
   "id": "5fc877e9",
   "metadata": {},
   "outputs": [],
   "source": [
    "df['housing'].unique()"
   ]
  },
  {
   "cell_type": "code",
   "execution_count": null,
   "id": "a65fd844",
   "metadata": {},
   "outputs": [],
   "source": [
    "df['loan'].unique()"
   ]
  },
  {
   "cell_type": "code",
   "execution_count": null,
   "id": "852965de",
   "metadata": {},
   "outputs": [],
   "source": [
    "df['contact'].unique()"
   ]
  },
  {
   "cell_type": "code",
   "execution_count": null,
   "id": "0dca051f",
   "metadata": {},
   "outputs": [],
   "source": [
    "df['month'].unique()"
   ]
  },
  {
   "cell_type": "code",
   "execution_count": null,
   "id": "d812e53c",
   "metadata": {},
   "outputs": [],
   "source": [
    "df['day_of_week'].unique()"
   ]
  },
  {
   "cell_type": "code",
   "execution_count": null,
   "id": "48425db0",
   "metadata": {},
   "outputs": [],
   "source": [
    "df['poutcome'].unique()"
   ]
  },
  {
   "cell_type": "markdown",
   "id": "684ccd01",
   "metadata": {},
   "source": [
    "\n",
    "# EDA"
   ]
  },
  {
   "cell_type": "code",
   "execution_count": null,
   "id": "7af08dc2",
   "metadata": {},
   "outputs": [],
   "source": [
    "sns.pairplot(df)"
   ]
  },
  {
   "cell_type": "code",
   "execution_count": null,
   "id": "3bde2543",
   "metadata": {},
   "outputs": [],
   "source": [
    "sns.distplot(df['age'])"
   ]
  },
  {
   "cell_type": "code",
   "execution_count": null,
   "id": "f6279afe",
   "metadata": {},
   "outputs": [],
   "source": [
    "\n",
    "sns.distplot(df['emp_var_rate'])"
   ]
  },
  {
   "cell_type": "code",
   "execution_count": null,
   "id": "1c15767f",
   "metadata": {},
   "outputs": [],
   "source": [
    "sns.distplot(df['cons_price_idx'])"
   ]
  },
  {
   "cell_type": "code",
   "execution_count": null,
   "id": "a89c3dd1",
   "metadata": {},
   "outputs": [],
   "source": [
    "sns.distplot(df['cons_conf_idx'])"
   ]
  },
  {
   "cell_type": "code",
   "execution_count": null,
   "id": "d7350da8",
   "metadata": {},
   "outputs": [],
   "source": [
    "sns.distplot(df['euribor3m'])"
   ]
  },
  {
   "cell_type": "code",
   "execution_count": null,
   "id": "fe3df2b4",
   "metadata": {},
   "outputs": [],
   "source": [
    "sns.distplot(df['nr_employed'])"
   ]
  },
  {
   "cell_type": "code",
   "execution_count": null,
   "id": "762a1f0d",
   "metadata": {},
   "outputs": [],
   "source": [
    "df.columns"
   ]
  },
  {
   "cell_type": "code",
   "execution_count": null,
   "id": "d3b27eea",
   "metadata": {},
   "outputs": [],
   "source": [
    "sns.distplot(df['duration'])\n",
    "plt.show()"
   ]
  },
  {
   "cell_type": "code",
   "execution_count": null,
   "id": "146d5c8f",
   "metadata": {},
   "outputs": [],
   "source": [
    "df.groupby('Invested')['Invested'].count().plot(kind=\"bar\")"
   ]
  },
  {
   "cell_type": "code",
   "execution_count": null,
   "id": "3d1f5e55",
   "metadata": {},
   "outputs": [],
   "source": [
    "df_numeric=df.select_dtypes(include=['float','int'])\n",
    "df_numeric"
   ]
  },
  {
   "cell_type": "code",
   "execution_count": null,
   "id": "d8ff03af",
   "metadata": {},
   "outputs": [],
   "source": [
    "#removing categorical veriables\n",
    "df_numeric=df_numeric.drop(['campaign','pdays','previous'],axis=1)"
   ]
  },
  {
   "cell_type": "code",
   "execution_count": null,
   "id": "9ea4696a",
   "metadata": {},
   "outputs": [],
   "source": [
    "sns.heatmap(df_numeric.corr(),cmap='YlGnBu',annot=True)"
   ]
  },
  {
   "cell_type": "code",
   "execution_count": null,
   "id": "76066ef0",
   "metadata": {},
   "outputs": [],
   "source": [
    "df_cat=df.select_dtypes(include=\"object\")\n",
    "df_cat=pd.concat([df_cat,df[['campaign','pdays','previous']]],axis=1)\n",
    "df_cat[['campaign','pdays','previous']]=df_cat[['campaign','pdays','previous']].astype(\"object\")\n",
    "df_cat.dtypes"
   ]
  },
  {
   "cell_type": "code",
   "execution_count": null,
   "id": "c45ecef9",
   "metadata": {},
   "outputs": [],
   "source": [
    "df_cat=pd.get_dummies(df_cat,drop_first=True)\n",
    "df_cat"
   ]
  },
  {
   "cell_type": "code",
   "execution_count": null,
   "id": "eb6b06f3",
   "metadata": {},
   "outputs": [],
   "source": [
    "df_final=pd.concat([df_numeric,df_cat],axis=1)"
   ]
  },
  {
   "cell_type": "code",
   "execution_count": null,
   "id": "bfb40c62",
   "metadata": {},
   "outputs": [],
   "source": [
    "x=df_final.drop(['Invested'],axis=1)"
   ]
  },
  {
   "cell_type": "code",
   "execution_count": null,
   "id": "c71eb8e9",
   "metadata": {},
   "outputs": [],
   "source": [
    "y=df_final['Invested']"
   ]
  },
  {
   "cell_type": "code",
   "execution_count": null,
   "id": "17793de2",
   "metadata": {},
   "outputs": [],
   "source": [
    "xtrain,xtest,ytrain,ytest=train_test_split(x,y,test_size=.3,random_state=999)"
   ]
  },
  {
   "cell_type": "code",
   "execution_count": null,
   "id": "89052e40",
   "metadata": {},
   "outputs": [],
   "source": [
    "xtrain.shape,xtest.shape,ytrain.shape,ytest.shape"
   ]
  },
  {
   "cell_type": "code",
   "execution_count": null,
   "id": "66f1f664",
   "metadata": {},
   "outputs": [],
   "source": [
    "from sklearn.feature_selection import SelectKBest,f_classif"
   ]
  },
  {
   "cell_type": "code",
   "execution_count": null,
   "id": "4bff5f1c",
   "metadata": {},
   "outputs": [],
   "source": [
    "key_feature=SelectKBest(score_func=f_classif,k=5)\n",
    "xtrain_selected=key_feature.fit_transform(xtrain,ytrain)\n",
    "selected_indices=key_feature.get_support(indices=True)"
   ]
  },
  {
   "cell_type": "code",
   "execution_count": null,
   "id": "e890b169",
   "metadata": {},
   "outputs": [],
   "source": []
  },
  {
   "cell_type": "code",
   "execution_count": null,
   "id": "d8b183b8",
   "metadata": {},
   "outputs": [],
   "source": [
    "selected_features=xtrain.columns[selected_indices]\n",
    "xtrain=xtrain[selected_features]\n"
   ]
  },
  {
   "cell_type": "code",
   "execution_count": null,
   "id": "4c644945",
   "metadata": {},
   "outputs": [],
   "source": [
    "xtrain"
   ]
  },
  {
   "cell_type": "code",
   "execution_count": null,
   "id": "5da9a2c0",
   "metadata": {},
   "outputs": [],
   "source": [
    "logrig=LogisticRegression()\n",
    "logrig.fit(xtrain,ytrain)"
   ]
  },
  {
   "cell_type": "code",
   "execution_count": null,
   "id": "26b7fa5b",
   "metadata": {},
   "outputs": [],
   "source": [
    "logrig.score(xtrain,ytrain)"
   ]
  },
  {
   "cell_type": "code",
   "execution_count": null,
   "id": "9fad3bfd",
   "metadata": {},
   "outputs": [],
   "source": [
    "xtest=xtest[selected_features]"
   ]
  },
  {
   "cell_type": "code",
   "execution_count": null,
   "id": "6c9e8326",
   "metadata": {},
   "outputs": [],
   "source": [
    "pred=logrig.predict(xtest)"
   ]
  },
  {
   "cell_type": "code",
   "execution_count": null,
   "id": "530e5776",
   "metadata": {},
   "outputs": [],
   "source": [
    "logrig.score(xtest,ytest)"
   ]
  },
  {
   "cell_type": "code",
   "execution_count": null,
   "id": "6a2f009a",
   "metadata": {},
   "outputs": [],
   "source": [
    "from sklearn.metrics import confusion_matrix,accuracy_score,precision_score,recall_score,f1_score"
   ]
  },
  {
   "cell_type": "code",
   "execution_count": null,
   "id": "e9ee4775",
   "metadata": {},
   "outputs": [],
   "source": [
    "confusion_matrix(ytest,pred)"
   ]
  },
  {
   "cell_type": "code",
   "execution_count": null,
   "id": "e273e785",
   "metadata": {},
   "outputs": [],
   "source": [
    "a1=accuracy_score(ytest,pred)"
   ]
  },
  {
   "cell_type": "code",
   "execution_count": null,
   "id": "3f707f80",
   "metadata": {},
   "outputs": [],
   "source": [
    "a2=precision_score(ytest,pred)"
   ]
  },
  {
   "cell_type": "code",
   "execution_count": null,
   "id": "1c0f285e",
   "metadata": {},
   "outputs": [],
   "source": [
    "a3=recall_score(ytest,pred)"
   ]
  },
  {
   "cell_type": "code",
   "execution_count": null,
   "id": "fd943a52",
   "metadata": {},
   "outputs": [],
   "source": [
    "a4=f1_score(ytest,pred)"
   ]
  },
  {
   "cell_type": "code",
   "execution_count": null,
   "id": "427599d9",
   "metadata": {},
   "outputs": [],
   "source": [
    "col=['accuracy','precision','recall','f1']\n",
    "data=[[a1,a2,a3,a4]]\n",
    "data=pd.DataFrame(data,columns=col)"
   ]
  },
  {
   "cell_type": "code",
   "execution_count": null,
   "id": "90e84eec",
   "metadata": {},
   "outputs": [],
   "source": [
    "data"
   ]
  },
  {
   "cell_type": "markdown",
   "id": "941ba4a8",
   "metadata": {},
   "source": [
    "# -------------------------------------------------------------------------"
   ]
  },
  {
   "cell_type": "code",
   "execution_count": null,
   "id": "ba00fcbf",
   "metadata": {},
   "outputs": [],
   "source": [
    "from sklearn.neighbors import KNeighborsClassifier"
   ]
  },
  {
   "cell_type": "code",
   "execution_count": null,
   "id": "35f1e639",
   "metadata": {},
   "outputs": [],
   "source": [
    "knn=KNeighborsClassifier(n_neighbors=5,metric='euclidean')"
   ]
  },
  {
   "cell_type": "code",
   "execution_count": null,
   "id": "9a7cd1e7",
   "metadata": {},
   "outputs": [],
   "source": [
    "knn.fit(xtrain,ytrain)"
   ]
  },
  {
   "cell_type": "code",
   "execution_count": null,
   "id": "631bae76",
   "metadata": {},
   "outputs": [],
   "source": [
    "knn.score(xtrain,ytrain)"
   ]
  },
  {
   "cell_type": "code",
   "execution_count": null,
   "id": "cae5bed5",
   "metadata": {},
   "outputs": [],
   "source": [
    "knnpred=knn.predict(xtest)"
   ]
  },
  {
   "cell_type": "code",
   "execution_count": null,
   "id": "95351202",
   "metadata": {},
   "outputs": [],
   "source": [
    "confusion_matrix(ytest,knnpred)"
   ]
  },
  {
   "cell_type": "code",
   "execution_count": null,
   "id": "b3e97351",
   "metadata": {},
   "outputs": [],
   "source": [
    "knnac=accuracy_score(ytest,knnpred)\n",
    "knnpr=precision_score(ytest,knnpred)\n",
    "knnre=recall_score(ytest,knnpred)\n",
    "knnf1=f1_score(ytest,knnpred)"
   ]
  },
  {
   "cell_type": "code",
   "execution_count": null,
   "id": "4ea1c2cc",
   "metadata": {},
   "outputs": [],
   "source": [
    "col=['accuracy','precision','recall','f1']\n",
    "data=[[knnac,knnpr,knnre,knnf1]]\n",
    "data=pd.DataFrame(data,columns=col)"
   ]
  },
  {
   "cell_type": "code",
   "execution_count": null,
   "id": "fc937e4e",
   "metadata": {},
   "outputs": [],
   "source": [
    "data"
   ]
  },
  {
   "cell_type": "markdown",
   "id": "27a184ce",
   "metadata": {},
   "source": [
    "# -----------------------------------------------------------------------------------------"
   ]
  },
  {
   "cell_type": "code",
   "execution_count": null,
   "id": "af2b530f",
   "metadata": {},
   "outputs": [],
   "source": [
    "from sklearn.naive_bayes import GaussianNB"
   ]
  },
  {
   "cell_type": "code",
   "execution_count": null,
   "id": "e4a6c0b1",
   "metadata": {},
   "outputs": [],
   "source": [
    "GNB=GaussianNB()\n",
    "GNB.fit(xtrain,ytrain)"
   ]
  },
  {
   "cell_type": "code",
   "execution_count": null,
   "id": "9e3eb458",
   "metadata": {},
   "outputs": [],
   "source": [
    "gnbpred=GNB.predict(xtest)"
   ]
  },
  {
   "cell_type": "code",
   "execution_count": null,
   "id": "70fa329f",
   "metadata": {},
   "outputs": [],
   "source": [
    "gdbacc=accuracy_score(ytest,gnbpred)\n",
    "gdbpre=precision_score(ytest,gnbpred)\n",
    "gdbre=recall_score(ytest,gnbpred)\n",
    "gdbf=f1_score(ytest,gnbpred)"
   ]
  },
  {
   "cell_type": "code",
   "execution_count": null,
   "id": "c753788b",
   "metadata": {},
   "outputs": [],
   "source": [
    "col=['accuracy','precision','recall','f1']\n",
    "data=[[gdbacc,gdbpre,gdbre,gdbf]]\n",
    "data=pd.DataFrame(data,columns=col)\n",
    "data"
   ]
  },
  {
   "cell_type": "markdown",
   "id": "0a389a7d",
   "metadata": {},
   "source": [
    "# -----------------------------------------------------------------------------------------------------------"
   ]
  },
  {
   "cell_type": "code",
   "execution_count": null,
   "id": "43f83a03",
   "metadata": {},
   "outputs": [],
   "source": [
    "from sklearn.tree import DecisionTreeClassifier"
   ]
  },
  {
   "cell_type": "code",
   "execution_count": null,
   "id": "c025560d",
   "metadata": {},
   "outputs": [],
   "source": [
    "dtree=DecisionTreeClassifier(max_depth=5)"
   ]
  },
  {
   "cell_type": "code",
   "execution_count": null,
   "id": "8c731239",
   "metadata": {},
   "outputs": [],
   "source": [
    "dtree.fit(xtrain,ytrain)"
   ]
  },
  {
   "cell_type": "code",
   "execution_count": null,
   "id": "dfb1e186",
   "metadata": {},
   "outputs": [],
   "source": [
    "dtree.score(xtrain,ytrain)"
   ]
  },
  {
   "cell_type": "code",
   "execution_count": null,
   "id": "56b7c71b",
   "metadata": {},
   "outputs": [],
   "source": [
    "dtreepred=dtree.predict(xtest)"
   ]
  },
  {
   "cell_type": "code",
   "execution_count": null,
   "id": "1e3e26e8",
   "metadata": {},
   "outputs": [],
   "source": [
    "dtacc=accuracy_score(ytest,dtreepred)\n",
    "dtpre=precision_score(ytest,dtreepred)\n",
    "dtre=recall_score(ytest,dtreepred)\n",
    "dtf1=f1_score(ytest,dtreepred)"
   ]
  },
  {
   "cell_type": "code",
   "execution_count": null,
   "id": "3b8810f0",
   "metadata": {},
   "outputs": [],
   "source": [
    "col=['accuracy','precision','recall','f1']\n",
    "data=[[dtacc,dtpre,dtre,dtf1]]\n",
    "data=pd.DataFrame(data,columns=col)\n",
    "data"
   ]
  },
  {
   "cell_type": "markdown",
   "id": "a008da0e",
   "metadata": {},
   "source": [
    "# ----------------------------------------------------------------------------------------------------------"
   ]
  },
  {
   "cell_type": "code",
   "execution_count": null,
   "id": "bc80762c",
   "metadata": {},
   "outputs": [],
   "source": [
    "from sklearn.ensemble import RandomForestClassifier"
   ]
  },
  {
   "cell_type": "code",
   "execution_count": null,
   "id": "39af16a7",
   "metadata": {},
   "outputs": [],
   "source": [
    "rfc=RandomForestClassifier(n_estimators=100)"
   ]
  },
  {
   "cell_type": "code",
   "execution_count": null,
   "id": "b1467908",
   "metadata": {},
   "outputs": [],
   "source": [
    "rfc.fit(xtrain,ytrain)"
   ]
  },
  {
   "cell_type": "code",
   "execution_count": null,
   "id": "4d5362c4",
   "metadata": {},
   "outputs": [],
   "source": [
    "rfc.score(xtrain,ytrain)"
   ]
  },
  {
   "cell_type": "code",
   "execution_count": null,
   "id": "4a21cb62",
   "metadata": {},
   "outputs": [],
   "source": [
    "rfcpred=rfc.predict(xtest)"
   ]
  },
  {
   "cell_type": "code",
   "execution_count": null,
   "id": "c2c58a56",
   "metadata": {},
   "outputs": [],
   "source": [
    "rfcacc=accuracy_score(ytest,rfcpred)\n",
    "rfcpre=precision_score(ytest,rfcpred)\n",
    "rfcrec=recall_score(ytest,rfcpred)\n",
    "rfcf1=f1_score(ytest,rfcpred)"
   ]
  },
  {
   "cell_type": "code",
   "execution_count": null,
   "id": "684c5574",
   "metadata": {},
   "outputs": [],
   "source": [
    "col=['accuracy','precision','recall','f1']\n",
    "data=[[rfcacc,rfcpre,rfcrec,rfcf1]]\n",
    "data=pd.DataFrame(data,columns=col)\n",
    "data"
   ]
  },
  {
   "cell_type": "markdown",
   "id": "af6cfcd6",
   "metadata": {},
   "source": [
    "# --------------------------------------------------------------------------------------------------------"
   ]
  },
  {
   "cell_type": "code",
   "execution_count": null,
   "id": "9f7cad13",
   "metadata": {},
   "outputs": [],
   "source": [
    "from sklearn.svm import SVC"
   ]
  },
  {
   "cell_type": "code",
   "execution_count": null,
   "id": "3eadd54d",
   "metadata": {},
   "outputs": [],
   "source": [
    "svml=SVC(kernel='linear')"
   ]
  },
  {
   "cell_type": "code",
   "execution_count": null,
   "id": "2ac68aba",
   "metadata": {},
   "outputs": [],
   "source": [
    "svml.fit(xtrain,ytrain)"
   ]
  },
  {
   "cell_type": "code",
   "execution_count": null,
   "id": "188dab9b",
   "metadata": {},
   "outputs": [],
   "source": [
    "svml.score(xtrain,ytrain)"
   ]
  },
  {
   "cell_type": "code",
   "execution_count": null,
   "id": "92d3b7bd",
   "metadata": {},
   "outputs": [],
   "source": [
    "svmpred=svml.predict(xtest)"
   ]
  },
  {
   "cell_type": "code",
   "execution_count": null,
   "id": "a783ca95",
   "metadata": {},
   "outputs": [],
   "source": [
    "svmacc=accuracy_score(ytest,svmpred)\n",
    "svmpre=precision_score(ytest,svmpred)\n",
    "svmre=recall_score(ytest,svmpred)\n",
    "svmf1=f1_score(ytest,svmpred)"
   ]
  },
  {
   "cell_type": "code",
   "execution_count": null,
   "id": "d3807067",
   "metadata": {},
   "outputs": [],
   "source": [
    "confusion_matrix(ytest,svmpred)"
   ]
  },
  {
   "cell_type": "code",
   "execution_count": null,
   "id": "39a8df75",
   "metadata": {},
   "outputs": [],
   "source": [
    "col=['accuracy','precision','recall','f1']\n",
    "data=[[svmacc,svmpre,svmre,svmf1]]\n",
    "data=pd.DataFrame(data,columns=col)\n",
    "data"
   ]
  },
  {
   "cell_type": "markdown",
   "id": "a5be1fb4",
   "metadata": {},
   "source": [
    "# ----------------------------------------------------------------------------------------------------------"
   ]
  },
  {
   "cell_type": "code",
   "execution_count": null,
   "id": "921ee067",
   "metadata": {},
   "outputs": [],
   "source": [
    "col=['Model','Accuracy','Precision','Recall','F1']\n",
    "data=[['LR',a1,a2,a3,a4],\n",
    "      ['KNN',knnac,knnpr,knnre,knnf1],\n",
    "      ['NB',gdbacc,gdbpre,gdbre,gdbf],\n",
    "      ['DT',dtacc,dtpre,dtre,dtf1],\n",
    "      ['RF',rfcacc,rfcpre,rfcrec,rfcf1],\n",
    "     ['SVM',svmacc,svmpre,svmre,svmf1]]\n",
    "data=pd.DataFrame(data,columns=col)\n",
    "data=data.sort_values(by='Accuracy')\n",
    "data"
   ]
  },
  {
   "cell_type": "code",
   "execution_count": null,
   "id": "5449c27e",
   "metadata": {},
   "outputs": [],
   "source": []
  },
  {
   "cell_type": "code",
   "execution_count": null,
   "id": "15aff629",
   "metadata": {},
   "outputs": [],
   "source": []
  }
 ],
 "metadata": {
  "kernelspec": {
   "display_name": "Python 3 (ipykernel)",
   "language": "python",
   "name": "python3"
  },
  "language_info": {
   "codemirror_mode": {
    "name": "ipython",
    "version": 3
   },
   "file_extension": ".py",
   "mimetype": "text/x-python",
   "name": "python",
   "nbconvert_exporter": "python",
   "pygments_lexer": "ipython3",
   "version": "3.11.5"
  }
 },
 "nbformat": 4,
 "nbformat_minor": 5
}
