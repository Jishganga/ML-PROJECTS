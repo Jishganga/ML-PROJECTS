{
 "cells": [
  {
   "cell_type": "markdown",
   "id": "348d0478",
   "metadata": {},
   "source": [
    "# Objective of Automobile Mileage Prediction Project\n",
    "Build a predictive modeling algorithm to predict mileage of cars based on a given input variables."
   ]
  },
  {
   "cell_type": "code",
   "execution_count": null,
   "id": "85dc5e61",
   "metadata": {},
   "outputs": [],
   "source": [
    "#import libraries\n",
    "#----------------------------------------------\n",
    "#For data preparation and analysis\n",
    "import pandas as pd\n",
    "#For creating plots\n",
    "import matplotlib.pyplot as plt\n",
    "#For distribution plots and heatmap\n",
    "import seaborn as sns\n",
    "#For creating training and test samples\n",
    "from sklearn.model_selection import train_test_split\n",
    "#Feature selection (to select significant variables)\n",
    "from sklearn.feature_selection import SelectKBest,f_regression\n",
    "#For building linear regression model\n",
    "from sklearn.linear_model import LinearRegression\n"
   ]
  },
  {
   "cell_type": "code",
   "execution_count": null,
   "id": "8e453601",
   "metadata": {},
   "outputs": [],
   "source": [
    "#import automobile data\n",
    "df=pd.read_csv(r\"C:\\Users\\jgmk2\\OneDrive\\Desktop\\introtallent\\PYTHON\\Data Files used in Projects\\Data Files used in Projects\\automobile data.csv\")\n",
    "df"
   ]
  },
  {
   "cell_type": "markdown",
   "id": "e60ccd12",
   "metadata": {},
   "source": [
    "# UNDERSTAND DATA"
   ]
  },
  {
   "cell_type": "code",
   "execution_count": null,
   "id": "19757aba",
   "metadata": {},
   "outputs": [],
   "source": [
    "df.head(3)"
   ]
  },
  {
   "cell_type": "code",
   "execution_count": null,
   "id": "e31128ca",
   "metadata": {},
   "outputs": [],
   "source": [
    "df.columns"
   ]
  },
  {
   "cell_type": "markdown",
   "id": "eb83d8f5",
   "metadata": {},
   "source": [
    "# VARIABLE DESCRIPTION"
   ]
  },
  {
   "cell_type": "markdown",
   "id": "c91972fa",
   "metadata": {},
   "source": [
    "* Target variable (y):(MPG(Mileage per gallon)\n",
    "                    \n",
    "                    \n",
    "  * Cylinders \n",
    "  * Displacement \n",
    "  * Horsepower  \n",
    "  * Weight\n",
    "  * Acceleration \n",
    "  * Model_year\n",
    "  * Origin\n",
    "  * Car_Name\n",
    "      "
   ]
  },
  {
   "cell_type": "code",
   "execution_count": null,
   "id": "a4a2b90f",
   "metadata": {},
   "outputs": [],
   "source": [
    "df.tail()"
   ]
  },
  {
   "cell_type": "code",
   "execution_count": null,
   "id": "ffdf17c0",
   "metadata": {},
   "outputs": [],
   "source": [
    "df.shape\n",
    "#Observations:369\n",
    "#Variables:9\n"
   ]
  },
  {
   "cell_type": "code",
   "execution_count": null,
   "id": "60524bae",
   "metadata": {},
   "outputs": [],
   "source": [
    "#Check the datatypes\n",
    "df.dtypes"
   ]
  },
  {
   "cell_type": "code",
   "execution_count": null,
   "id": "9218ea93",
   "metadata": {},
   "outputs": [],
   "source": [
    "#Horse power is a numeric variable by in the df it is started sa categorical\n",
    "#So we need to change the data type of horse power\n",
    "\n",
    "df['Horsepower']=pd.to_numeric(df['Horsepower'],errors='coerce')"
   ]
  },
  {
   "cell_type": "code",
   "execution_count": null,
   "id": "df0f979d",
   "metadata": {},
   "outputs": [],
   "source": [
    "#Check data types again\n",
    "df.dtypes"
   ]
  },
  {
   "cell_type": "code",
   "execution_count": null,
   "id": "8b1a3bf8",
   "metadata": {},
   "outputs": [],
   "source": [
    "#Descriptive statistics\n",
    "df.describe()"
   ]
  },
  {
   "cell_type": "code",
   "execution_count": null,
   "id": "fd5952c9",
   "metadata": {},
   "outputs": [],
   "source": [
    "#Check missing values\n",
    "df.isnull().sum()"
   ]
  },
  {
   "cell_type": "code",
   "execution_count": null,
   "id": "938f27ab",
   "metadata": {},
   "outputs": [],
   "source": [
    "#There are 6 missing values in Horsepower\n"
   ]
  },
  {
   "cell_type": "code",
   "execution_count": null,
   "id": "1415ae17",
   "metadata": {},
   "outputs": [],
   "source": [
    "#Missing values imputing\n",
    "df['Horsepower']=df['Horsepower'].fillna(df['Horsepower'].median)\n",
    "df=df.dropna(axis=0)"
   ]
  },
  {
   "cell_type": "code",
   "execution_count": null,
   "id": "1cd921a5",
   "metadata": {},
   "outputs": [],
   "source": [
    "#Check once again\n",
    "df.isnull().sum()"
   ]
  },
  {
   "cell_type": "code",
   "execution_count": null,
   "id": "1b6e4886",
   "metadata": {},
   "outputs": [],
   "source": [
    "#Checking outlier\n"
   ]
  },
  {
   "cell_type": "code",
   "execution_count": null,
   "id": "110318f1",
   "metadata": {},
   "outputs": [],
   "source": [
    "plt.boxplot(df['MPG']) #NO OUTLIERS\n",
    "plt.show()"
   ]
  },
  {
   "cell_type": "code",
   "execution_count": null,
   "id": "8209555f",
   "metadata": {},
   "outputs": [],
   "source": [
    "plt.boxplot(df['Cylinders']) #NO OUTLIERS\n",
    "plt.show()"
   ]
  },
  {
   "cell_type": "code",
   "execution_count": null,
   "id": "fd821b51",
   "metadata": {},
   "outputs": [],
   "source": [
    "plt.boxplot(df['Displacement']) #NO OUTLIERS\n",
    "plt.show()"
   ]
  },
  {
   "cell_type": "code",
   "execution_count": null,
   "id": "6746d135",
   "metadata": {},
   "outputs": [],
   "source": [
    "plt.boxplot(df['Displacement']) #NO OUTLIERS\n",
    "plt.show()"
   ]
  },
  {
   "cell_type": "code",
   "execution_count": null,
   "id": "0a1faa6e",
   "metadata": {},
   "outputs": [],
   "source": [
    "plt.boxplot(df['Weight']) #NO OUTLIERS\n",
    "plt.show()"
   ]
  },
  {
   "cell_type": "code",
   "execution_count": null,
   "id": "7eb99c9a",
   "metadata": {},
   "outputs": [],
   "source": [
    "plt.boxplot(df['Acceleration'])\n",
    "plt.show()\n"
   ]
  },
  {
   "cell_type": "code",
   "execution_count": null,
   "id": "aaaa6a7b",
   "metadata": {},
   "outputs": [],
   "source": [
    "def remove_outliers(d,c):\n",
    "#Where d is the variable for dataframe,c is the variable for columns\n",
    "\n",
    "#Find q1 and q3\n",
    "    q1=d[c].quantile(0.25)\n",
    "    q3=d[c].quantile(0.75)\n",
    "    \n",
    "#Calculate the IQR\n",
    "    iqr=q3-q1\n",
    "    \n",
    "#Find UPPER BOUND AND LOWER BOUND    \n",
    "\n",
    "    ub=q3+1.5*iqr\n",
    "    lb=q1-1.5*iqr\n",
    "#Filter good data(i.e,eliminate outliers)\n",
    "    \n",
    "    data_without_outlier=d[(d[c]<=ub) & (d[c]>=lb)]\n",
    "    \n",
    "    return data_without_outlier\n",
    "df=remove_outliers(df,'Acceleration')\n",
    "plt.boxplot(df['Acceleration'])\n",
    "plt.show()"
   ]
  },
  {
   "cell_type": "code",
   "execution_count": null,
   "id": "e6b35454",
   "metadata": {},
   "outputs": [],
   "source": [
    "plt.boxplot(df['Model_year']) #NO OUTLIERS\n",
    "plt.show()"
   ]
  },
  {
   "cell_type": "code",
   "execution_count": null,
   "id": "139a8113",
   "metadata": {},
   "outputs": [],
   "source": [
    "plt.boxplot(df['Origin']) #NO OUTLIERS\n",
    "plt.show()"
   ]
  },
  {
   "cell_type": "code",
   "execution_count": null,
   "id": "dd3f2489",
   "metadata": {},
   "outputs": [],
   "source": [
    "df['Horsepower']"
   ]
  },
  {
   "cell_type": "code",
   "execution_count": null,
   "id": "f3f703b4",
   "metadata": {},
   "outputs": [],
   "source": [
    "df['Horsepower']=pd.to_numeric(df['Horsepower'],errors='coerce')\n",
    "plt.boxplot(df['Horsepower'])\n",
    "plt.show()"
   ]
  },
  {
   "cell_type": "code",
   "execution_count": null,
   "id": "157c1eda",
   "metadata": {},
   "outputs": [],
   "source": []
  },
  {
   "cell_type": "markdown",
   "id": "cc501f38",
   "metadata": {},
   "source": [
    "# EDA(Exploratory Data Analysis)\n",
    "* Distribution\n",
    "* Data Mix\n",
    "* Correlation"
   ]
  },
  {
   "cell_type": "code",
   "execution_count": null,
   "id": "92a7476e",
   "metadata": {},
   "outputs": [],
   "source": [
    "df.columns"
   ]
  },
  {
   "cell_type": "code",
   "execution_count": null,
   "id": "04121246",
   "metadata": {},
   "outputs": [],
   "source": [
    "df.shape"
   ]
  },
  {
   "cell_type": "code",
   "execution_count": null,
   "id": "58255c37",
   "metadata": {},
   "outputs": [],
   "source": [
    "#'MPG','Displacement','Horsepower','Weight','Acceleration'"
   ]
  },
  {
   "cell_type": "code",
   "execution_count": null,
   "id": "4cb1396b",
   "metadata": {},
   "outputs": [],
   "source": [
    "sns.distplot(df['MPG'])"
   ]
  },
  {
   "cell_type": "code",
   "execution_count": null,
   "id": "58772dd1",
   "metadata": {},
   "outputs": [],
   "source": [
    "sns.distplot(df['Displacement'])"
   ]
  },
  {
   "cell_type": "code",
   "execution_count": null,
   "id": "257b62dc",
   "metadata": {},
   "outputs": [],
   "source": [
    "sns.distplot(df['Horsepower'])"
   ]
  },
  {
   "cell_type": "code",
   "execution_count": null,
   "id": "9fe860c0",
   "metadata": {},
   "outputs": [],
   "source": [
    "sns.distplot(df['Weight'])"
   ]
  },
  {
   "cell_type": "code",
   "execution_count": null,
   "id": "ad28dd27",
   "metadata": {},
   "outputs": [],
   "source": [
    "sns.distplot(df['Acceleration'])"
   ]
  },
  {
   "cell_type": "code",
   "execution_count": null,
   "id": "92737d29",
   "metadata": {},
   "outputs": [],
   "source": [
    "#Check Datamix\n"
   ]
  },
  {
   "cell_type": "code",
   "execution_count": null,
   "id": "5fdf5288",
   "metadata": {},
   "outputs": [],
   "source": [
    "df.groupby('Cylinders')['Cylinders'].count().plot(kind='bar')"
   ]
  },
  {
   "cell_type": "code",
   "execution_count": null,
   "id": "aefb542f",
   "metadata": {},
   "outputs": [],
   "source": [
    "df.groupby('Model_year')['Model_year'].count().plot(kind='bar')"
   ]
  },
  {
   "cell_type": "code",
   "execution_count": null,
   "id": "d19c35f7",
   "metadata": {},
   "outputs": [],
   "source": [
    "df.groupby('Origin')['Origin'].count().plot(kind='bar')"
   ]
  },
  {
   "cell_type": "code",
   "execution_count": null,
   "id": "be5e4363",
   "metadata": {},
   "outputs": [],
   "source": [
    "df.groupby('Car_Name')['Car_Name'].count().plot(kind='bar')"
   ]
  },
  {
   "cell_type": "markdown",
   "id": "ba302466",
   "metadata": {},
   "source": [
    "# PEARSON CORRELATION"
   ]
  },
  {
   "cell_type": "code",
   "execution_count": null,
   "id": "7d06ab8b",
   "metadata": {},
   "outputs": [],
   "source": [
    "#create a set of numeric columns\n",
    "df_numeric=df.select_dtypes(include=['int64','float64'])\n",
    "df_numeric.head()"
   ]
  },
  {
   "cell_type": "code",
   "execution_count": null,
   "id": "2a375a50",
   "metadata": {},
   "outputs": [],
   "source": [
    "#in_df_numeric has categorical varioables mthat 3we need to drop (cylindrs.model_year.oirgin)"
   ]
  },
  {
   "cell_type": "code",
   "execution_count": null,
   "id": "4e69adca",
   "metadata": {},
   "outputs": [],
   "source": [
    "df_numeric=df_numeric.drop(['Cylinders', 'Model_year', 'Origin'], axis=1)\n",
    "df_numeric.head()"
   ]
  },
  {
   "cell_type": "code",
   "execution_count": null,
   "id": "5d56d7b2",
   "metadata": {},
   "outputs": [],
   "source": [
    "#Create a heatmap\n",
    "sns.heatmap(df_numeric.corr(),cmap='YlGnBu',annot=True)"
   ]
  },
  {
   "cell_type": "code",
   "execution_count": null,
   "id": "104e7750",
   "metadata": {},
   "outputs": [],
   "source": [
    "#Using Pearson correlation test we found that key drivers(input variables) at "
   ]
  },
  {
   "cell_type": "code",
   "execution_count": null,
   "id": "c9912e2f",
   "metadata": {},
   "outputs": [],
   "source": [
    "---------------------End of EDA--------------------"
   ]
  },
  {
   "cell_type": "code",
   "execution_count": null,
   "id": "69c43a25",
   "metadata": {},
   "outputs": [],
   "source": [
    "#Check if there is any problem in categorical variables.\n",
    "#Like spelling difference,case sensitive values ie male,male"
   ]
  },
  {
   "cell_type": "code",
   "execution_count": null,
   "id": "3cfc49a9",
   "metadata": {},
   "outputs": [],
   "source": [
    "df.columns\n"
   ]
  },
  {
   "cell_type": "code",
   "execution_count": null,
   "id": "278cc721",
   "metadata": {},
   "outputs": [],
   "source": [
    "df['Cylinders'].unique()"
   ]
  },
  {
   "cell_type": "code",
   "execution_count": null,
   "id": "7bf2cf0b",
   "metadata": {},
   "outputs": [],
   "source": [
    "df['Model_year'].unique()"
   ]
  },
  {
   "cell_type": "code",
   "execution_count": null,
   "id": "3f811d69",
   "metadata": {},
   "outputs": [],
   "source": [
    "df['Model_year'].unique()\n",
    "#origin 1.US 2.GERMANY 3.JAPAN"
   ]
  },
  {
   "cell_type": "code",
   "execution_count": null,
   "id": "93ebefe2",
   "metadata": {},
   "outputs": [],
   "source": [
    "df['Car_Name'].unique()"
   ]
  },
  {
   "cell_type": "markdown",
   "id": "4965c29a",
   "metadata": {},
   "source": [
    "# Dummy conversion (One-Hot encoding)"
   ]
  },
  {
   "cell_type": "code",
   "execution_count": null,
   "id": "a8d6573c",
   "metadata": {},
   "outputs": [],
   "source": [
    "#Remove model year as it doesnot signify anything in terms of impact on target\n",
    "df=df.drop('Model_year',axis=1)"
   ]
  },
  {
   "cell_type": "code",
   "execution_count": null,
   "id": "740faf77",
   "metadata": {},
   "outputs": [],
   "source": [
    "df.dtypes"
   ]
  },
  {
   "cell_type": "code",
   "execution_count": null,
   "id": "29a23d06",
   "metadata": {},
   "outputs": [],
   "source": [
    "#Cylindrs and origin are categorical variables stored as numeric.\n",
    "#Hence we need to change the datatype of these variables to object\n",
    "df['Cylinders']=df['Cylinders'].astype('object')\n",
    "df['Origin']=df['Origin'].astype('object')\n",
    "df.dtypes\n"
   ]
  },
  {
   "cell_type": "code",
   "execution_count": null,
   "id": "1dfebd39",
   "metadata": {},
   "outputs": [],
   "source": [
    "#Create a new df to store categorical variables to dummy conversion\n",
    "df_categorical=df.select_dtypes(include='object')\n",
    "df_categorical.head()"
   ]
  },
  {
   "cell_type": "code",
   "execution_count": null,
   "id": "fde84e5b",
   "metadata": {},
   "outputs": [],
   "source": [
    "#dummy conversion\n",
    "df_dummy=pd.get_dummies(df_categorical,drop_first=True)\n",
    "df_dummy.head()"
   ]
  },
  {
   "cell_type": "code",
   "execution_count": null,
   "id": "727b746e",
   "metadata": {},
   "outputs": [],
   "source": [
    "#combine data from df_numeric and df_dummy\n",
    "df_final=pd.concat([df_numeric,df_dummy], axis=1)\n",
    "df_final.head()"
   ]
  },
  {
   "cell_type": "code",
   "execution_count": null,
   "id": "4814a361",
   "metadata": {},
   "outputs": [],
   "source": [
    "#Create x and y\n",
    "x=df_final.drop('MPG',axis=1)\n",
    "y=df_final['MPG']"
   ]
  },
  {
   "cell_type": "code",
   "execution_count": null,
   "id": "e87cd9cc",
   "metadata": {},
   "outputs": [],
   "source": [
    "#from sklearn.feature_selection import RFE\n",
    "#from sklearn.Linear_model import LinearRegression"
   ]
  },
  {
   "cell_type": "code",
   "execution_count": null,
   "id": "c4cf216b",
   "metadata": {},
   "outputs": [],
   "source": [
    "#Training and test samples\n",
    "xtrain,xtest,ytrain,ytest=train_test_split(x,y,test_size=.3,random_state=999)"
   ]
  },
  {
   "cell_type": "code",
   "execution_count": null,
   "id": "b52f2bf4",
   "metadata": {},
   "outputs": [],
   "source": [
    "#Check the sample size\n",
    "print(xtrain.shape,xtest.shape,ytrain.shape,)"
   ]
  },
  {
   "cell_type": "code",
   "execution_count": null,
   "id": "e28c3ae8",
   "metadata": {},
   "outputs": [],
   "source": []
  },
  {
   "cell_type": "code",
   "execution_count": null,
   "id": "d9f6001f",
   "metadata": {},
   "outputs": [],
   "source": []
  },
  {
   "cell_type": "markdown",
   "id": "d1ac158f",
   "metadata": {},
   "source": [
    "\n",
    "# FEATURE SELECTION\n",
    "\n",
    "Select significant variables.\n",
    "\n",
    "# VIF,Variable Inflation Factor:a score that tells us the relevance of a variable along with P value we also check VIF to find the significant variable.\n",
    "\n",
    "# VTF=1/{1-R^2}\n",
    "\n",
    "#P VALUE:measures strengthof evidence against null hypothesis.A variable with P value <0.05 is considered as significant variable.\n",
    "\n",
    "#While finding the significant variable manually we shouldwe should check P values."
   ]
  },
  {
   "cell_type": "code",
   "execution_count": null,
   "id": "187c4302",
   "metadata": {},
   "outputs": [],
   "source": [
    "#select significant variables\n",
    "#Create key_features object to select the top k features\n",
    "#key_features =selectkBest(score_func=f_regression,k='all')\n",
    "key_features=SelectKBest(score_func=f_regression,k=5)# to select 5 most significant variables (5 is enough)\n",
    "\n",
    "\n"
   ]
  },
  {
   "cell_type": "code",
   "execution_count": null,
   "id": "9aff873c",
   "metadata": {},
   "outputs": [],
   "source": [
    "key_features"
   ]
  },
  {
   "cell_type": "code",
   "execution_count": null,
   "id": "adfa6d38",
   "metadata": {},
   "outputs": [],
   "source": [
    "#fit the key_features to the training and transform it\n",
    "xtrain_select=key_features.fit_transform(xtrain,ytrain)"
   ]
  },
  {
   "cell_type": "code",
   "execution_count": null,
   "id": "ffe8a77b",
   "metadata": {},
   "outputs": [],
   "source": [
    "xtrain.isnull().sum()"
   ]
  },
  {
   "cell_type": "code",
   "execution_count": null,
   "id": "496b3a2c",
   "metadata": {},
   "outputs": [],
   "source": [
    "#Get the indices of the selected features\n",
    "selected_indices=key_features.get_support()\n",
    "selected_indices"
   ]
  },
  {
   "cell_type": "code",
   "execution_count": null,
   "id": "0bd60eb1",
   "metadata": {},
   "outputs": [],
   "source": [
    "selected_indices=key_features.get_support(indices=True)\n",
    "selected_indices"
   ]
  },
  {
   "cell_type": "code",
   "execution_count": null,
   "id": "0f582a01",
   "metadata": {},
   "outputs": [],
   "source": [
    "#Get the name of the selected features\n",
    "selected_features=xtrain.columns[selected_indices]\n"
   ]
  },
  {
   "cell_type": "code",
   "execution_count": null,
   "id": "27380064",
   "metadata": {},
   "outputs": [],
   "source": [
    "#Print the significant variable\n",
    "selected_features"
   ]
  },
  {
   "cell_type": "code",
   "execution_count": null,
   "id": "0cd1879f",
   "metadata": {},
   "outputs": [],
   "source": [
    "# Create key_features object to select the top k features\n",
    "key_features = SelectKBest(score_func=f_regression, k=5) # to select 5 significant features\n",
    "\n",
    "# Fit the key_feature to the training data and transform it\n",
    "xtrain_selected= key_features.fit_transform(xtrain,ytrain)\n",
    "\n",
    "# Get the indices of the selected features\n",
    "selected_indices = key_features.get_support(indices=True)\n",
    "\n",
    "# Get the names of selected features\n",
    "selected_features = xtrain.columns[selected_indices]"
   ]
  },
  {
   "cell_type": "code",
   "execution_count": null,
   "id": "f08d98a8",
   "metadata": {},
   "outputs": [],
   "source": [
    "selected_features"
   ]
  },
  {
   "cell_type": "code",
   "execution_count": null,
   "id": "2c62023a",
   "metadata": {},
   "outputs": [],
   "source": [
    "xtrain_selected=xtrain.iloc[:, selected_indices]\n",
    "xtrain_selected"
   ]
  },
  {
   "cell_type": "code",
   "execution_count": null,
   "id": "ce292a7e",
   "metadata": {},
   "outputs": [],
   "source": [
    "#LINEAR REGRESSION MODEL"
   ]
  },
  {
   "cell_type": "code",
   "execution_count": null,
   "id": "90ff9db7",
   "metadata": {},
   "outputs": [],
   "source": [
    "# Instantiate the linear regression function\n",
    "linreg=LinearRegression()\n",
    "\n",
    "# Fit the model using training sample\n",
    "linreg.fit(xtrain_selected,ytrain)\n",
    "\n",
    "# Print the accuracy of training model\n",
    "linreg.score(xtrain_selected,ytrain)"
   ]
  },
  {
   "cell_type": "code",
   "execution_count": null,
   "id": "47487d3d",
   "metadata": {},
   "outputs": [],
   "source": [
    "# Evaluate the model on the test set using the selected features\n",
    "xtest_selected = xtest.iloc[:, selected_indices]\n",
    "\n",
    "linreg.score(xtest_selected,ytest)"
   ]
  },
  {
   "cell_type": "code",
   "execution_count": null,
   "id": "2a4e8c36",
   "metadata": {},
   "outputs": [],
   "source": [
    "# Print predicted Mileage\n",
    "predicted_mpg"
   ]
  },
  {
   "cell_type": "code",
   "execution_count": null,
   "id": "b8628e5e",
   "metadata": {},
   "outputs": [],
   "source": [
    "# Print B0\n",
    "linreg.intercept_"
   ]
  },
  {
   "cell_type": "code",
   "execution_count": null,
   "id": "14aab848",
   "metadata": {},
   "outputs": [],
   "source": [
    "# Print B\n",
    "linreg.coef_"
   ]
  },
  {
   "cell_type": "code",
   "execution_count": null,
   "id": "ff7ec879",
   "metadata": {},
   "outputs": [],
   "source": [
    "# Remove multicolinear variable\n",
    "df_numeric=df_numeric.drop(\"scaled_displacement\",axis=1)\n",
    "df_numeric.head()"
   ]
  },
  {
   "cell_type": "code",
   "execution_count": null,
   "id": "04697277",
   "metadata": {},
   "outputs": [],
   "source": [
    "df_categorical.head()"
   ]
  },
  {
   "cell_type": "code",
   "execution_count": null,
   "id": "debf60a9",
   "metadata": {},
   "outputs": [],
   "source": [
    "df_dummy.head()"
   ]
  },
  {
   "cell_type": "code",
   "execution_count": null,
   "id": "b96217db",
   "metadata": {},
   "outputs": [],
   "source": [
    "df_final=pd.concat([df_numeric,df_dummy],axis=1)\n",
    "df_final.head()"
   ]
  },
  {
   "cell_type": "code",
   "execution_count": null,
   "id": "01c1c5fe",
   "metadata": {},
   "outputs": [],
   "source": [
    "# Create x and y\n",
    "\n",
    "x=df_final.drop('MPG',axis=1)\n",
    "y=df_final[\"MPG\"]"
   ]
  },
  {
   "cell_type": "code",
   "execution_count": null,
   "id": "0335e5c3",
   "metadata": {},
   "outputs": [],
   "source": [
    "# Training and test sample\n",
    "xtrain,xtest,ytrain,ytest=train_test_split(x,y,test_size=0.3,random_state=999)"
   ]
  },
  {
   "cell_type": "code",
   "execution_count": null,
   "id": "6e0ad19b",
   "metadata": {},
   "outputs": [],
   "source": [
    "# Check sample size\n",
    "print(xtrain.shape,xtest.shape,ytrain.shape,ytest.shape)# Create key_features object to select the top k features\n",
    "key_features = SelectKBest(score_func=f_regression, k=5) # to select 5 significant features\n",
    "\n",
    "# Fit the key_feature to the training data and transform it\n",
    "xtrain_selected= key_features.fit_transform(xtrain,ytrain)\n",
    "\n",
    "# Get the indices of the selected features\n",
    "selected_indices = key_features.get_support(indices=True)\n",
    "\n",
    "# Get the names of selected features\n",
    "selected_features = xtrain.columns[selected_indices]"
   ]
  },
  {
   "cell_type": "code",
   "execution_count": null,
   "id": "a59ec0d3",
   "metadata": {},
   "outputs": [],
   "source": [
    "selected_features"
   ]
  },
  {
   "cell_type": "code",
   "execution_count": null,
   "id": "551f781f",
   "metadata": {},
   "outputs": [],
   "source": [
    "xtrain_selected=xtrain.iloc[:, selected_indices]"
   ]
  },
  {
   "cell_type": "code",
   "execution_count": null,
   "id": "24ec256e",
   "metadata": {},
   "outputs": [],
   "source": [
    "#LINEAR REGRESSION MODEL"
   ]
  },
  {
   "cell_type": "code",
   "execution_count": null,
   "id": "97add315",
   "metadata": {},
   "outputs": [],
   "source": [
    "# Instantiate the linear regression function\n",
    "linreg=LinearRegression()\n",
    "\n",
    "# Fit the model using training sample\n",
    "linreg.fit(xtrain_selected,ytrain)\n",
    "\n",
    "# Print the accuracy of training model\n",
    "linreg.score(xtrain_selected,ytrain)"
   ]
  },
  {
   "cell_type": "code",
   "execution_count": null,
   "id": "9aeffad5",
   "metadata": {},
   "outputs": [],
   "source": [
    "# Evaluate the model on the test set using the selected features\n",
    "xtest_selected = xtest.iloc[:, selected_indices]\n",
    "\n",
    "linreg.score(xtest_selected,ytest)"
   ]
  },
  {
   "cell_type": "code",
   "execution_count": null,
   "id": "30ea851d",
   "metadata": {},
   "outputs": [],
   "source": [
    "# Predict mileage based on xtest\n",
    "predicted_mpg=linreg.predict(xtest_selected)\n",
    "\n",
    "# Check accuracy of test model\n",
    "linreg.score(xtest_selected,ytest)"
   ]
  },
  {
   "cell_type": "code",
   "execution_count": null,
   "id": "39c7cf58",
   "metadata": {},
   "outputs": [],
   "source": [
    "# Print predicted Mileage\n",
    "predicted_mpg"
   ]
  },
  {
   "cell_type": "code",
   "execution_count": null,
   "id": "deea60e3",
   "metadata": {},
   "outputs": [],
   "source": [
    "# Print B0\n",
    "linreg.intercept_"
   ]
  },
  {
   "cell_type": "code",
   "execution_count": null,
   "id": "5613c830",
   "metadata": {},
   "outputs": [],
   "source": [
    "# Print B\n",
    "linreg.coef_"
   ]
  },
  {
   "cell_type": "code",
   "execution_count": null,
   "id": "58254fb6",
   "metadata": {},
   "outputs": [],
   "source": []
  },
  {
   "cell_type": "code",
   "execution_count": null,
   "id": "2af8a508",
   "metadata": {},
   "outputs": [],
   "source": []
  },
  {
   "cell_type": "code",
   "execution_count": null,
   "id": "15f12321",
   "metadata": {},
   "outputs": [],
   "source": []
  },
  {
   "cell_type": "code",
   "execution_count": null,
   "id": "5b7125a2",
   "metadata": {},
   "outputs": [],
   "source": []
  },
  {
   "cell_type": "code",
   "execution_count": null,
   "id": "30a2db48",
   "metadata": {},
   "outputs": [],
   "source": []
  },
  {
   "cell_type": "code",
   "execution_count": null,
   "id": "6897a39e",
   "metadata": {},
   "outputs": [],
   "source": []
  },
  {
   "cell_type": "code",
   "execution_count": null,
   "id": "40bb1d0c",
   "metadata": {},
   "outputs": [],
   "source": []
  },
  {
   "cell_type": "code",
   "execution_count": null,
   "id": "7f7dfc2b",
   "metadata": {},
   "outputs": [],
   "source": []
  },
  {
   "cell_type": "code",
   "execution_count": null,
   "id": "ef504fe3",
   "metadata": {},
   "outputs": [],
   "source": []
  },
  {
   "cell_type": "code",
   "execution_count": null,
   "id": "e0338a7b",
   "metadata": {},
   "outputs": [],
   "source": []
  },
  {
   "cell_type": "code",
   "execution_count": null,
   "id": "22439be5",
   "metadata": {},
   "outputs": [],
   "source": []
  },
  {
   "cell_type": "code",
   "execution_count": null,
   "id": "654fb57d",
   "metadata": {},
   "outputs": [],
   "source": []
  },
  {
   "cell_type": "code",
   "execution_count": null,
   "id": "fb1d1bb0",
   "metadata": {},
   "outputs": [],
   "source": []
  },
  {
   "cell_type": "code",
   "execution_count": null,
   "id": "6acb0ac9",
   "metadata": {},
   "outputs": [],
   "source": []
  },
  {
   "cell_type": "code",
   "execution_count": null,
   "id": "87bd45cc",
   "metadata": {},
   "outputs": [],
   "source": []
  },
  {
   "cell_type": "code",
   "execution_count": null,
   "id": "888ff034",
   "metadata": {},
   "outputs": [],
   "source": []
  },
  {
   "cell_type": "code",
   "execution_count": null,
   "id": "c2d0c828",
   "metadata": {},
   "outputs": [],
   "source": []
  },
  {
   "cell_type": "code",
   "execution_count": null,
   "id": "071e8815",
   "metadata": {},
   "outputs": [],
   "source": []
  },
  {
   "cell_type": "code",
   "execution_count": null,
   "id": "0d68449a",
   "metadata": {},
   "outputs": [],
   "source": []
  },
  {
   "cell_type": "code",
   "execution_count": null,
   "id": "5bf4278c",
   "metadata": {},
   "outputs": [],
   "source": []
  },
  {
   "cell_type": "code",
   "execution_count": null,
   "id": "d3f7668a",
   "metadata": {},
   "outputs": [],
   "source": []
  },
  {
   "cell_type": "code",
   "execution_count": null,
   "id": "2dfd69a0",
   "metadata": {},
   "outputs": [],
   "source": []
  }
 ],
 "metadata": {
  "kernelspec": {
   "display_name": "Python 3 (ipykernel)",
   "language": "python",
   "name": "python3"
  },
  "language_info": {
   "codemirror_mode": {
    "name": "ipython",
    "version": 3
   },
   "file_extension": ".py",
   "mimetype": "text/x-python",
   "name": "python",
   "nbconvert_exporter": "python",
   "pygments_lexer": "ipython3",
   "version": "3.11.5"
  }
 },
 "nbformat": 4,
 "nbformat_minor": 5
}
