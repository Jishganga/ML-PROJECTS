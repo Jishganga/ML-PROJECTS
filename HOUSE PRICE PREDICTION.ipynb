{
 "cells": [
  {
   "cell_type": "code",
   "execution_count": null,
   "id": "ed279f2f",
   "metadata": {},
   "outputs": [],
   "source": [
    "import pandas as pd\n",
    "import matplotlib.pyplot as plt\n",
    "import seaborn as sns\n",
    "from sklearn.model_selection import train_test_split\n",
    "from sklearn.feature_selection import SelectKBest,f_regression\n",
    "from sklearn.linear_model import LinearRegression"
   ]
  },
  {
   "cell_type": "code",
   "execution_count": null,
   "id": "877151e1",
   "metadata": {},
   "outputs": [],
   "source": [
    "df=pd.read_csv(r\"C:\\Users\\jgmk2\\OneDrive\\Desktop\\introtallent\\PYTHON\\Data Files used in Projects\\Data Files used in Projects\\automobile data.csv\")"
   ]
  },
  {
   "cell_type": "code",
   "execution_count": null,
   "id": "ff106a3b",
   "metadata": {},
   "outputs": [],
   "source": [
    "df.head()"
   ]
  },
  {
   "cell_type": "code",
   "execution_count": null,
   "id": "b1b756c0",
   "metadata": {},
   "outputs": [],
   "source": [
    "df.dtypes"
   ]
  },
  {
   "cell_type": "code",
   "execution_count": null,
   "id": "4463340c",
   "metadata": {},
   "outputs": [],
   "source": [
    "# horsepower is in object dtype and changing it to numeric\n",
    "df['Horsepower']=pd.to_numeric(df['Horsepower'],errors='coerce')\n",
    "df.dtypes"
   ]
  },
  {
   "cell_type": "code",
   "execution_count": null,
   "id": "76402b87",
   "metadata": {},
   "outputs": [],
   "source": [
    "df.isnull().sum()"
   ]
  },
  {
   "cell_type": "code",
   "execution_count": null,
   "id": "d77eeb8e",
   "metadata": {},
   "outputs": [],
   "source": [
    "df['Horsepower']=df['Horsepower'].fillna(df['Horsepower'].median())"
   ]
  },
  {
   "cell_type": "code",
   "execution_count": null,
   "id": "91694c70",
   "metadata": {},
   "outputs": [],
   "source": [
    "df.isnull().sum()"
   ]
  },
  {
   "cell_type": "code",
   "execution_count": null,
   "id": "432bc3f9",
   "metadata": {},
   "outputs": [],
   "source": [
    "df.shape"
   ]
  },
  {
   "cell_type": "code",
   "execution_count": null,
   "id": "839e577b",
   "metadata": {},
   "outputs": [],
   "source": [
    "plt.boxplot(df['MPG'])\n",
    "plt.show()"
   ]
  },
  {
   "cell_type": "code",
   "execution_count": null,
   "id": "43a97cca",
   "metadata": {},
   "outputs": [],
   "source": [
    "plt.boxplot(df['Horsepower'])\n",
    "plt.show()"
   ]
  },
  {
   "cell_type": "code",
   "execution_count": null,
   "id": "27902800",
   "metadata": {},
   "outputs": [],
   "source": [
    "plt.boxplot(df['Weight'])\n",
    "plt.show()"
   ]
  },
  {
   "cell_type": "code",
   "execution_count": null,
   "id": "17303db6",
   "metadata": {},
   "outputs": [],
   "source": [
    "plt.boxplot(df['Acceleration'])\n",
    "plt.show()"
   ]
  },
  {
   "cell_type": "code",
   "execution_count": null,
   "id": "824ef17d",
   "metadata": {},
   "outputs": [],
   "source": [
    "plt.boxplot(df['Displacement'])\n",
    "plt.show()"
   ]
  },
  {
   "cell_type": "code",
   "execution_count": null,
   "id": "2ef95914",
   "metadata": {},
   "outputs": [],
   "source": [
    "def outlier_remove(d,c):\n",
    "    q1=d[c].quantile(.25)\n",
    "    q3=d[c].quantile(.75)\n",
    "    iqr=q3-q1\n",
    "    lb=q1-(1.5*iqr)\n",
    "    ub=q3+(1.5*iqr)\n",
    "    result=d[(d[c]>=lb)&(d[c]<=ub)]\n",
    "    return result"
   ]
  },
  {
   "cell_type": "code",
   "execution_count": null,
   "id": "52129e90",
   "metadata": {},
   "outputs": [],
   "source": [
    "df=outlier_remove(df,'Horsepower')\n",
    "plt.boxplot(df['Horsepower'])\n",
    "plt.show()"
   ]
  },
  {
   "cell_type": "code",
   "execution_count": null,
   "id": "616b1456",
   "metadata": {},
   "outputs": [],
   "source": [
    "df=outlier_remove(df,'Acceleration')\n",
    "plt.boxplot(df['Acceleration'])\n",
    "plt.show()"
   ]
  },
  {
   "cell_type": "code",
   "execution_count": null,
   "id": "17c0e557",
   "metadata": {},
   "outputs": [],
   "source": [
    "df.shape"
   ]
  },
  {
   "cell_type": "code",
   "execution_count": null,
   "id": "6080f553",
   "metadata": {},
   "outputs": [],
   "source": [
    "# EDA"
   ]
  },
  {
   "cell_type": "code",
   "execution_count": null,
   "id": "3a0efadb",
   "metadata": {},
   "outputs": [],
   "source": [
    "df"
   ]
  },
  {
   "cell_type": "code",
   "execution_count": null,
   "id": "e544f2bc",
   "metadata": {},
   "outputs": [],
   "source": [
    "sns.distplot(df['MPG'])"
   ]
  },
  {
   "cell_type": "code",
   "execution_count": null,
   "id": "899e0a1c",
   "metadata": {},
   "outputs": [],
   "source": [
    "sns.distplot(df['Displacement'])"
   ]
  },
  {
   "cell_type": "code",
   "execution_count": null,
   "id": "a6bf5040",
   "metadata": {},
   "outputs": [],
   "source": [
    "sns.distplot(df['Horsepower'])"
   ]
  },
  {
   "cell_type": "code",
   "execution_count": null,
   "id": "61fa762b",
   "metadata": {},
   "outputs": [],
   "source": [
    "sns.distplot(df['Weight'])"
   ]
  },
  {
   "cell_type": "code",
   "execution_count": null,
   "id": "9c3d1fe9",
   "metadata": {},
   "outputs": [],
   "source": [
    "sns.distplot(df['Acceleration'])"
   ]
  },
  {
   "cell_type": "code",
   "execution_count": null,
   "id": "edfecb0b",
   "metadata": {},
   "outputs": [],
   "source": [
    "df.columns"
   ]
  },
  {
   "cell_type": "code",
   "execution_count": null,
   "id": "981b71e2",
   "metadata": {},
   "outputs": [],
   "source": [
    "df.groupby('Cylinders')['Cylinders'].count().plot(kind='bar')"
   ]
  },
  {
   "cell_type": "code",
   "execution_count": null,
   "id": "cfb54a15",
   "metadata": {},
   "outputs": [],
   "source": [
    "df=df[df['Cylinders']!=3]\n",
    "df=df[df['Cylinders']!=5]\n",
    "df['Cylinders'].unique()"
   ]
  },
  {
   "cell_type": "code",
   "execution_count": null,
   "id": "be5756ac",
   "metadata": {},
   "outputs": [],
   "source": [
    "\n",
    "df.groupby('Model_year')['Model_year'].count().plot(kind='bar')"
   ]
  },
  {
   "cell_type": "code",
   "execution_count": null,
   "id": "ef766aa8",
   "metadata": {},
   "outputs": [],
   "source": [
    "df.groupby('Origin')['Origin'].count().plot(kind='bar')"
   ]
  },
  {
   "cell_type": "code",
   "execution_count": null,
   "id": "cdd98aa6",
   "metadata": {},
   "outputs": [],
   "source": [
    "df.groupby('Car_Name')['Car_Name'].count().plot(kind='bar')"
   ]
  },
  {
   "cell_type": "code",
   "execution_count": null,
   "id": "1c287237",
   "metadata": {},
   "outputs": [],
   "source": [
    "df_numeric=df.select_dtypes(include=[\"int\",'float'])\n",
    "df_numeric=df_numeric.drop(['Model_year','Origin'],axis=1)\n"
   ]
  },
  {
   "cell_type": "code",
   "execution_count": null,
   "id": "9b398a44",
   "metadata": {},
   "outputs": [],
   "source": [
    "sns.heatmap(df_numeric.corr(),cmap=\"YlGnBu\",annot=True)"
   ]
  },
  {
   "cell_type": "code",
   "execution_count": null,
   "id": "0cd19868",
   "metadata": {},
   "outputs": [],
   "source": [
    "df.head(1)"
   ]
  },
  {
   "cell_type": "code",
   "execution_count": null,
   "id": "8b424bed",
   "metadata": {},
   "outputs": [],
   "source": [
    "df.drop(['Model_year','Origin'],axis=1)"
   ]
  },
  {
   "cell_type": "code",
   "execution_count": null,
   "id": "dcfb74c9",
   "metadata": {},
   "outputs": [],
   "source": [
    "df.dtypes"
   ]
  },
  {
   "cell_type": "code",
   "execution_count": null,
   "id": "0f1a18ac",
   "metadata": {},
   "outputs": [],
   "source": [
    "df['Cylinders']=df['Cylinders'].astype('object')\n",
    "df['Origin']=df['Origin'].astype('object')"
   ]
  },
  {
   "cell_type": "code",
   "execution_count": null,
   "id": "4096b0cb",
   "metadata": {},
   "outputs": [],
   "source": [
    "df_categ=df.select_dtypes(include='object')\n",
    "df_categ=df_categ.drop('Origin',axis=1)"
   ]
  },
  {
   "cell_type": "code",
   "execution_count": null,
   "id": "bc9fb74b",
   "metadata": {},
   "outputs": [],
   "source": [
    "df_categ=pd.get_dummies(df_categ,drop_first=True)"
   ]
  },
  {
   "cell_type": "code",
   "execution_count": null,
   "id": "6b28726b",
   "metadata": {},
   "outputs": [],
   "source": [
    "df_categ"
   ]
  },
  {
   "cell_type": "code",
   "execution_count": null,
   "id": "7e40431c",
   "metadata": {},
   "outputs": [],
   "source": [
    "df_final=pd.concat([df_numeric,df_categ],axis=1)"
   ]
  },
  {
   "cell_type": "code",
   "execution_count": null,
   "id": "cd256e3e",
   "metadata": {},
   "outputs": [],
   "source": [
    "df_final.head(1)"
   ]
  },
  {
   "cell_type": "code",
   "execution_count": null,
   "id": "e7980557",
   "metadata": {},
   "outputs": [],
   "source": [
    "x=df_final.drop('MPG',axis=1)\n",
    "y=df_final['MPG']\n",
    "x=x.drop('Cylinders',axis=1)"
   ]
  },
  {
   "cell_type": "code",
   "execution_count": null,
   "id": "4196005e",
   "metadata": {},
   "outputs": [],
   "source": [
    "xtrain,xtest,ytrain,ytest=train_test_split(x,y,test_size=.3,random_state=999)"
   ]
  },
  {
   "cell_type": "code",
   "execution_count": null,
   "id": "c8bbc552",
   "metadata": {},
   "outputs": [],
   "source": [
    "xtrain.shape,xtest.shape,ytrain.shape,ytest.shape"
   ]
  },
  {
   "cell_type": "code",
   "execution_count": null,
   "id": "754e5329",
   "metadata": {},
   "outputs": [],
   "source": [
    "key_features=SelectKBest(score_func=f_regression,k=5)\n",
    "xtrain_selected=key_features.fit_transform(xtrain,ytrain)\n",
    "selected_indices=key_features.get_support(indices=True)\n"
   ]
  },
  {
   "cell_type": "code",
   "execution_count": null,
   "id": "bba96bdf",
   "metadata": {},
   "outputs": [],
   "source": [
    "xtrain.columns[selected_indices]"
   ]
  },
  {
   "cell_type": "code",
   "execution_count": null,
   "id": "6af932a4",
   "metadata": {},
   "outputs": [],
   "source": [
    "linreg=LinearRegression()\n",
    "linreg.fit(xtrain_selected,ytrain)\n",
    "linreg.score(xtrain_selected,ytrain)\n"
   ]
  },
  {
   "cell_type": "code",
   "execution_count": null,
   "id": "733f328c",
   "metadata": {},
   "outputs": [],
   "source": [
    "xtest_selected=xtest.iloc[:,selected_indices]"
   ]
  },
  {
   "cell_type": "code",
   "execution_count": null,
   "id": "9165f025",
   "metadata": {},
   "outputs": [],
   "source": [
    "linreg.score(xtest_selected,ytest)"
   ]
  },
  {
   "cell_type": "code",
   "execution_count": null,
   "id": "5a7e5cdd",
   "metadata": {},
   "outputs": [],
   "source": [
    "linreg.predict(xtest_selected)"
   ]
  },
  {
   "cell_type": "code",
   "execution_count": null,
   "id": "bab15a00",
   "metadata": {},
   "outputs": [],
   "source": [
    "linreg.intercept_\n"
   ]
  },
  {
   "cell_type": "code",
   "execution_count": null,
   "id": "27c8aab4",
   "metadata": {},
   "outputs": [],
   "source": [
    "linreg.coef_"
   ]
  }
 ],
 "metadata": {
  "kernelspec": {
   "display_name": "Python 3 (ipykernel)",
   "language": "python",
   "name": "python3"
  },
  "language_info": {
   "codemirror_mode": {
    "name": "ipython",
    "version": 3
   },
   "file_extension": ".py",
   "mimetype": "text/x-python",
   "name": "python",
   "nbconvert_exporter": "python",
   "pygments_lexer": "ipython3",
   "version": "3.11.5"
  }
 },
 "nbformat": 4,
 "nbformat_minor": 5
}
